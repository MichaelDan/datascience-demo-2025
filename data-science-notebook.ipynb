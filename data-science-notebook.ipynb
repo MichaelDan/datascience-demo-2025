{
  "nbformat": 4,
  "nbformat_minor": 0,
  "metadata": {
    "colab": {
      "provenance": [],
      "toc_visible": true,
      "authorship_tag": "ABX9TyMfWxLCKkwAMKiLsfjZbPLr",
      "include_colab_link": true
    },
    "kernelspec": {
      "name": "python3",
      "display_name": "Python 3"
    },
    "language_info": {
      "name": "python"
    }
  },
  "cells": [
    {
      "cell_type": "markdown",
      "metadata": {
        "id": "view-in-github",
        "colab_type": "text"
      },
      "source": [
        "<a href=\"https://colab.research.google.com/github/MichaelDan/datascience-demo-2025/blob/main/data-science-notebook.ipynb\" target=\"_parent\"><img src=\"https://colab.research.google.com/assets/colab-badge.svg\" alt=\"Open In Colab\"/></a>"
      ]
    },
    {
      "cell_type": "markdown",
      "source": [
        "## Ingest"
      ],
      "metadata": {
        "id": "Ux4SkadG68Ll"
      }
    },
    {
      "cell_type": "code",
      "source": [],
      "metadata": {
        "id": "i79VXVez6-VD"
      },
      "execution_count": null,
      "outputs": []
    },
    {
      "cell_type": "markdown",
      "source": [
        "## EDA"
      ],
      "metadata": {
        "id": "gRsMlJkQ6-wl"
      }
    },
    {
      "cell_type": "code",
      "source": [],
      "metadata": {
        "id": "KejB_I6x7ASc"
      },
      "execution_count": null,
      "outputs": []
    },
    {
      "cell_type": "markdown",
      "source": [
        "## Modeling"
      ],
      "metadata": {
        "id": "jeFKlZz88EM9"
      }
    },
    {
      "cell_type": "code",
      "source": [],
      "metadata": {
        "id": "CKEmgWXI8F_A"
      },
      "execution_count": null,
      "outputs": []
    },
    {
      "cell_type": "markdown",
      "source": [
        "## Conclusion"
      ],
      "metadata": {
        "id": "w71pdqig8Gqb"
      }
    },
    {
      "cell_type": "code",
      "source": [],
      "metadata": {
        "id": "yKlWknXq8IEB"
      },
      "execution_count": null,
      "outputs": []
    }
  ]
}